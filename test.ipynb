{
 "cells": [
  {
   "cell_type": "code",
   "execution_count": 1,
   "metadata": {},
   "outputs": [],
   "source": [
    "import pandas as pd"
   ]
  },
  {
   "cell_type": "code",
   "execution_count": 2,
   "metadata": {},
   "outputs": [],
   "source": [
    "url='https://data.epa.gov.tw/api/v2/aqx_p_02?api_key=e8dd42e6-9b8b-43f8-991e-b3dee723a52d&limit=1000&sort=datacreationdate%20desc&format=CSV'"
   ]
  },
  {
   "cell_type": "code",
   "execution_count": 3,
   "metadata": {},
   "outputs": [
    {
     "data": {
      "text/html": [
       "<div>\n",
       "<style scoped>\n",
       "    .dataframe tbody tr th:only-of-type {\n",
       "        vertical-align: middle;\n",
       "    }\n",
       "\n",
       "    .dataframe tbody tr th {\n",
       "        vertical-align: top;\n",
       "    }\n",
       "\n",
       "    .dataframe thead th {\n",
       "        text-align: right;\n",
       "    }\n",
       "</style>\n",
       "<table border=\"1\" class=\"dataframe\">\n",
       "  <thead>\n",
       "    <tr style=\"text-align: right;\">\n",
       "      <th></th>\n",
       "      <th>site</th>\n",
       "      <th>county</th>\n",
       "      <th>pm25</th>\n",
       "      <th>datacreationdate</th>\n",
       "      <th>itemunit</th>\n",
       "    </tr>\n",
       "  </thead>\n",
       "  <tbody>\n",
       "    <tr>\n",
       "      <th>0</th>\n",
       "      <td>大城</td>\n",
       "      <td>彰化縣</td>\n",
       "      <td>11</td>\n",
       "      <td>2022-09-26 20:00</td>\n",
       "      <td>μg/m3</td>\n",
       "    </tr>\n",
       "    <tr>\n",
       "      <th>1</th>\n",
       "      <td>富貴角</td>\n",
       "      <td>新北市</td>\n",
       "      <td>5</td>\n",
       "      <td>2022-09-26 20:00</td>\n",
       "      <td>μg/m3</td>\n",
       "    </tr>\n",
       "    <tr>\n",
       "      <th>2</th>\n",
       "      <td>麥寮</td>\n",
       "      <td>雲林縣</td>\n",
       "      <td>4</td>\n",
       "      <td>2022-09-26 20:00</td>\n",
       "      <td>μg/m3</td>\n",
       "    </tr>\n",
       "    <tr>\n",
       "      <th>3</th>\n",
       "      <td>關山</td>\n",
       "      <td>臺東縣</td>\n",
       "      <td>5</td>\n",
       "      <td>2022-09-26 20:00</td>\n",
       "      <td>μg/m3</td>\n",
       "    </tr>\n",
       "    <tr>\n",
       "      <th>4</th>\n",
       "      <td>馬公</td>\n",
       "      <td>澎湖縣</td>\n",
       "      <td>7</td>\n",
       "      <td>2022-09-26 20:00</td>\n",
       "      <td>μg/m3</td>\n",
       "    </tr>\n",
       "    <tr>\n",
       "      <th>...</th>\n",
       "      <td>...</td>\n",
       "      <td>...</td>\n",
       "      <td>...</td>\n",
       "      <td>...</td>\n",
       "      <td>...</td>\n",
       "    </tr>\n",
       "    <tr>\n",
       "      <th>73</th>\n",
       "      <td>土城</td>\n",
       "      <td>新北市</td>\n",
       "      <td>1</td>\n",
       "      <td>2022-09-26 20:00</td>\n",
       "      <td>μg/m3</td>\n",
       "    </tr>\n",
       "    <tr>\n",
       "      <th>74</th>\n",
       "      <td>新店</td>\n",
       "      <td>新北市</td>\n",
       "      <td>2</td>\n",
       "      <td>2022-09-26 20:00</td>\n",
       "      <td>μg/m3</td>\n",
       "    </tr>\n",
       "    <tr>\n",
       "      <th>75</th>\n",
       "      <td>萬里</td>\n",
       "      <td>新北市</td>\n",
       "      <td>4</td>\n",
       "      <td>2022-09-26 20:00</td>\n",
       "      <td>μg/m3</td>\n",
       "    </tr>\n",
       "    <tr>\n",
       "      <th>76</th>\n",
       "      <td>汐止</td>\n",
       "      <td>新北市</td>\n",
       "      <td>4</td>\n",
       "      <td>2022-09-26 20:00</td>\n",
       "      <td>μg/m3</td>\n",
       "    </tr>\n",
       "    <tr>\n",
       "      <th>77</th>\n",
       "      <td>基隆</td>\n",
       "      <td>基隆市</td>\n",
       "      <td>6</td>\n",
       "      <td>2022-09-26 20:00</td>\n",
       "      <td>μg/m3</td>\n",
       "    </tr>\n",
       "  </tbody>\n",
       "</table>\n",
       "<p>78 rows × 5 columns</p>\n",
       "</div>"
      ],
      "text/plain": [
       "   site county  pm25  datacreationdate itemunit\n",
       "0    大城    彰化縣    11  2022-09-26 20:00    μg/m3\n",
       "1   富貴角    新北市     5  2022-09-26 20:00    μg/m3\n",
       "2    麥寮    雲林縣     4  2022-09-26 20:00    μg/m3\n",
       "3    關山    臺東縣     5  2022-09-26 20:00    μg/m3\n",
       "4    馬公    澎湖縣     7  2022-09-26 20:00    μg/m3\n",
       "..  ...    ...   ...               ...      ...\n",
       "73   土城    新北市     1  2022-09-26 20:00    μg/m3\n",
       "74   新店    新北市     2  2022-09-26 20:00    μg/m3\n",
       "75   萬里    新北市     4  2022-09-26 20:00    μg/m3\n",
       "76   汐止    新北市     4  2022-09-26 20:00    μg/m3\n",
       "77   基隆    基隆市     6  2022-09-26 20:00    μg/m3\n",
       "\n",
       "[78 rows x 5 columns]"
      ]
     },
     "execution_count": 3,
     "metadata": {},
     "output_type": "execute_result"
    }
   ],
   "source": [
    "df=pd.read_csv(url)\n",
    "df"
   ]
  },
  {
   "cell_type": "code",
   "execution_count": 4,
   "metadata": {},
   "outputs": [
    {
     "name": "stdout",
     "output_type": "stream",
     "text": [
      "<class 'pandas.core.frame.DataFrame'>\n",
      "RangeIndex: 78 entries, 0 to 77\n",
      "Data columns (total 5 columns):\n",
      " #   Column            Non-Null Count  Dtype \n",
      "---  ------            --------------  ----- \n",
      " 0   site              78 non-null     object\n",
      " 1   county            78 non-null     object\n",
      " 2   pm25              78 non-null     int64 \n",
      " 3   datacreationdate  78 non-null     object\n",
      " 4   itemunit          78 non-null     object\n",
      "dtypes: int64(1), object(4)\n",
      "memory usage: 3.2+ KB\n"
     ]
    }
   ],
   "source": [
    "df.info()"
   ]
  },
  {
   "cell_type": "code",
   "execution_count": 5,
   "metadata": {},
   "outputs": [
    {
     "data": {
      "text/html": [
       "<div>\n",
       "<style scoped>\n",
       "    .dataframe tbody tr th:only-of-type {\n",
       "        vertical-align: middle;\n",
       "    }\n",
       "\n",
       "    .dataframe tbody tr th {\n",
       "        vertical-align: top;\n",
       "    }\n",
       "\n",
       "    .dataframe thead th {\n",
       "        text-align: right;\n",
       "    }\n",
       "</style>\n",
       "<table border=\"1\" class=\"dataframe\">\n",
       "  <thead>\n",
       "    <tr style=\"text-align: right;\">\n",
       "      <th></th>\n",
       "      <th>site</th>\n",
       "      <th>county</th>\n",
       "      <th>pm25</th>\n",
       "      <th>datacreationdate</th>\n",
       "      <th>itemunit</th>\n",
       "    </tr>\n",
       "  </thead>\n",
       "  <tbody>\n",
       "    <tr>\n",
       "      <th>0</th>\n",
       "      <td>大城</td>\n",
       "      <td>彰化縣</td>\n",
       "      <td>11</td>\n",
       "      <td>2022-09-26 20:00</td>\n",
       "      <td>μg/m3</td>\n",
       "    </tr>\n",
       "    <tr>\n",
       "      <th>1</th>\n",
       "      <td>富貴角</td>\n",
       "      <td>新北市</td>\n",
       "      <td>5</td>\n",
       "      <td>2022-09-26 20:00</td>\n",
       "      <td>μg/m3</td>\n",
       "    </tr>\n",
       "    <tr>\n",
       "      <th>2</th>\n",
       "      <td>麥寮</td>\n",
       "      <td>雲林縣</td>\n",
       "      <td>4</td>\n",
       "      <td>2022-09-26 20:00</td>\n",
       "      <td>μg/m3</td>\n",
       "    </tr>\n",
       "    <tr>\n",
       "      <th>3</th>\n",
       "      <td>關山</td>\n",
       "      <td>臺東縣</td>\n",
       "      <td>5</td>\n",
       "      <td>2022-09-26 20:00</td>\n",
       "      <td>μg/m3</td>\n",
       "    </tr>\n",
       "    <tr>\n",
       "      <th>4</th>\n",
       "      <td>馬公</td>\n",
       "      <td>澎湖縣</td>\n",
       "      <td>7</td>\n",
       "      <td>2022-09-26 20:00</td>\n",
       "      <td>μg/m3</td>\n",
       "    </tr>\n",
       "    <tr>\n",
       "      <th>...</th>\n",
       "      <td>...</td>\n",
       "      <td>...</td>\n",
       "      <td>...</td>\n",
       "      <td>...</td>\n",
       "      <td>...</td>\n",
       "    </tr>\n",
       "    <tr>\n",
       "      <th>73</th>\n",
       "      <td>土城</td>\n",
       "      <td>新北市</td>\n",
       "      <td>1</td>\n",
       "      <td>2022-09-26 20:00</td>\n",
       "      <td>μg/m3</td>\n",
       "    </tr>\n",
       "    <tr>\n",
       "      <th>74</th>\n",
       "      <td>新店</td>\n",
       "      <td>新北市</td>\n",
       "      <td>2</td>\n",
       "      <td>2022-09-26 20:00</td>\n",
       "      <td>μg/m3</td>\n",
       "    </tr>\n",
       "    <tr>\n",
       "      <th>75</th>\n",
       "      <td>萬里</td>\n",
       "      <td>新北市</td>\n",
       "      <td>4</td>\n",
       "      <td>2022-09-26 20:00</td>\n",
       "      <td>μg/m3</td>\n",
       "    </tr>\n",
       "    <tr>\n",
       "      <th>76</th>\n",
       "      <td>汐止</td>\n",
       "      <td>新北市</td>\n",
       "      <td>4</td>\n",
       "      <td>2022-09-26 20:00</td>\n",
       "      <td>μg/m3</td>\n",
       "    </tr>\n",
       "    <tr>\n",
       "      <th>77</th>\n",
       "      <td>基隆</td>\n",
       "      <td>基隆市</td>\n",
       "      <td>6</td>\n",
       "      <td>2022-09-26 20:00</td>\n",
       "      <td>μg/m3</td>\n",
       "    </tr>\n",
       "  </tbody>\n",
       "</table>\n",
       "<p>78 rows × 5 columns</p>\n",
       "</div>"
      ],
      "text/plain": [
       "   site county  pm25  datacreationdate itemunit\n",
       "0    大城    彰化縣    11  2022-09-26 20:00    μg/m3\n",
       "1   富貴角    新北市     5  2022-09-26 20:00    μg/m3\n",
       "2    麥寮    雲林縣     4  2022-09-26 20:00    μg/m3\n",
       "3    關山    臺東縣     5  2022-09-26 20:00    μg/m3\n",
       "4    馬公    澎湖縣     7  2022-09-26 20:00    μg/m3\n",
       "..  ...    ...   ...               ...      ...\n",
       "73   土城    新北市     1  2022-09-26 20:00    μg/m3\n",
       "74   新店    新北市     2  2022-09-26 20:00    μg/m3\n",
       "75   萬里    新北市     4  2022-09-26 20:00    μg/m3\n",
       "76   汐止    新北市     4  2022-09-26 20:00    μg/m3\n",
       "77   基隆    基隆市     6  2022-09-26 20:00    μg/m3\n",
       "\n",
       "[78 rows x 5 columns]"
      ]
     },
     "execution_count": 5,
     "metadata": {},
     "output_type": "execute_result"
    }
   ],
   "source": [
    "df=df.dropna()\n",
    "df"
   ]
  },
  {
   "cell_type": "code",
   "execution_count": 6,
   "metadata": {},
   "outputs": [
    {
     "data": {
      "text/html": [
       "<div>\n",
       "<style scoped>\n",
       "    .dataframe tbody tr th:only-of-type {\n",
       "        vertical-align: middle;\n",
       "    }\n",
       "\n",
       "    .dataframe tbody tr th {\n",
       "        vertical-align: top;\n",
       "    }\n",
       "\n",
       "    .dataframe thead th {\n",
       "        text-align: right;\n",
       "    }\n",
       "</style>\n",
       "<table border=\"1\" class=\"dataframe\">\n",
       "  <thead>\n",
       "    <tr style=\"text-align: right;\">\n",
       "      <th></th>\n",
       "      <th>site</th>\n",
       "      <th>county</th>\n",
       "      <th>pm25</th>\n",
       "      <th>datacreationdate</th>\n",
       "    </tr>\n",
       "  </thead>\n",
       "  <tbody>\n",
       "    <tr>\n",
       "      <th>0</th>\n",
       "      <td>大城</td>\n",
       "      <td>彰化縣</td>\n",
       "      <td>11</td>\n",
       "      <td>2022-09-26 20:00</td>\n",
       "    </tr>\n",
       "    <tr>\n",
       "      <th>1</th>\n",
       "      <td>富貴角</td>\n",
       "      <td>新北市</td>\n",
       "      <td>5</td>\n",
       "      <td>2022-09-26 20:00</td>\n",
       "    </tr>\n",
       "    <tr>\n",
       "      <th>2</th>\n",
       "      <td>麥寮</td>\n",
       "      <td>雲林縣</td>\n",
       "      <td>4</td>\n",
       "      <td>2022-09-26 20:00</td>\n",
       "    </tr>\n",
       "    <tr>\n",
       "      <th>3</th>\n",
       "      <td>關山</td>\n",
       "      <td>臺東縣</td>\n",
       "      <td>5</td>\n",
       "      <td>2022-09-26 20:00</td>\n",
       "    </tr>\n",
       "    <tr>\n",
       "      <th>4</th>\n",
       "      <td>馬公</td>\n",
       "      <td>澎湖縣</td>\n",
       "      <td>7</td>\n",
       "      <td>2022-09-26 20:00</td>\n",
       "    </tr>\n",
       "    <tr>\n",
       "      <th>...</th>\n",
       "      <td>...</td>\n",
       "      <td>...</td>\n",
       "      <td>...</td>\n",
       "      <td>...</td>\n",
       "    </tr>\n",
       "    <tr>\n",
       "      <th>73</th>\n",
       "      <td>土城</td>\n",
       "      <td>新北市</td>\n",
       "      <td>1</td>\n",
       "      <td>2022-09-26 20:00</td>\n",
       "    </tr>\n",
       "    <tr>\n",
       "      <th>74</th>\n",
       "      <td>新店</td>\n",
       "      <td>新北市</td>\n",
       "      <td>2</td>\n",
       "      <td>2022-09-26 20:00</td>\n",
       "    </tr>\n",
       "    <tr>\n",
       "      <th>75</th>\n",
       "      <td>萬里</td>\n",
       "      <td>新北市</td>\n",
       "      <td>4</td>\n",
       "      <td>2022-09-26 20:00</td>\n",
       "    </tr>\n",
       "    <tr>\n",
       "      <th>76</th>\n",
       "      <td>汐止</td>\n",
       "      <td>新北市</td>\n",
       "      <td>4</td>\n",
       "      <td>2022-09-26 20:00</td>\n",
       "    </tr>\n",
       "    <tr>\n",
       "      <th>77</th>\n",
       "      <td>基隆</td>\n",
       "      <td>基隆市</td>\n",
       "      <td>6</td>\n",
       "      <td>2022-09-26 20:00</td>\n",
       "    </tr>\n",
       "  </tbody>\n",
       "</table>\n",
       "<p>78 rows × 4 columns</p>\n",
       "</div>"
      ],
      "text/plain": [
       "   site county  pm25  datacreationdate\n",
       "0    大城    彰化縣    11  2022-09-26 20:00\n",
       "1   富貴角    新北市     5  2022-09-26 20:00\n",
       "2    麥寮    雲林縣     4  2022-09-26 20:00\n",
       "3    關山    臺東縣     5  2022-09-26 20:00\n",
       "4    馬公    澎湖縣     7  2022-09-26 20:00\n",
       "..  ...    ...   ...               ...\n",
       "73   土城    新北市     1  2022-09-26 20:00\n",
       "74   新店    新北市     2  2022-09-26 20:00\n",
       "75   萬里    新北市     4  2022-09-26 20:00\n",
       "76   汐止    新北市     4  2022-09-26 20:00\n",
       "77   基隆    基隆市     6  2022-09-26 20:00\n",
       "\n",
       "[78 rows x 4 columns]"
      ]
     },
     "execution_count": 6,
     "metadata": {},
     "output_type": "execute_result"
    }
   ],
   "source": [
    "df1=df['site\tcounty\tpm25\tdatacreationdate'.split()]\n",
    "df1"
   ]
  },
  {
   "cell_type": "code",
   "execution_count": 7,
   "metadata": {},
   "outputs": [
    {
     "data": {
      "text/plain": [
       "['site', 'county', 'pm25', 'datacreationdate']"
      ]
     },
     "execution_count": 7,
     "metadata": {},
     "output_type": "execute_result"
    }
   ],
   "source": [
    "df1.columns.tolist()"
   ]
  },
  {
   "cell_type": "code",
   "execution_count": 8,
   "metadata": {},
   "outputs": [
    {
     "data": {
      "text/plain": [
       "[['大城', '彰化縣', 11, '2022-09-26 20:00'],\n",
       " ['富貴角', '新北市', 5, '2022-09-26 20:00'],\n",
       " ['麥寮', '雲林縣', 4, '2022-09-26 20:00'],\n",
       " ['關山', '臺東縣', 5, '2022-09-26 20:00'],\n",
       " ['馬公', '澎湖縣', 7, '2022-09-26 20:00'],\n",
       " ['金門', '金門縣', 13, '2022-09-26 20:00'],\n",
       " ['馬祖', '連江縣', 11, '2022-09-26 20:00'],\n",
       " ['埔里', '南投縣', 25, '2022-09-26 20:00'],\n",
       " ['復興', '高雄市', 11, '2022-09-26 20:00'],\n",
       " ['永和', '新北市', 8, '2022-09-26 20:00'],\n",
       " ['竹山', '南投縣', 22, '2022-09-26 20:00'],\n",
       " ['中壢', '桃園市', 6, '2022-09-26 20:00'],\n",
       " ['三重', '新北市', 8, '2022-09-26 20:00'],\n",
       " ['冬山', '宜蘭縣', 2, '2022-09-26 20:00'],\n",
       " ['宜蘭', '宜蘭縣', 5, '2022-09-26 20:00'],\n",
       " ['陽明', '臺北市', 5, '2022-09-26 20:00'],\n",
       " ['花蓮', '花蓮縣', 8, '2022-09-26 20:00'],\n",
       " ['臺東', '臺東縣', 3, '2022-09-26 20:00'],\n",
       " ['恆春', '屏東縣', 2, '2022-09-26 20:00'],\n",
       " ['潮州', '屏東縣', 18, '2022-09-26 20:00'],\n",
       " ['屏東', '屏東縣', 16, '2022-09-26 20:00'],\n",
       " ['小港', '高雄市', 13, '2022-09-26 20:00'],\n",
       " ['前鎮', '高雄市', 11, '2022-09-26 20:00'],\n",
       " ['前金', '高雄市', 15, '2022-09-26 20:00'],\n",
       " ['左營', '高雄市', 9, '2022-09-26 20:00'],\n",
       " ['楠梓', '高雄市', 14, '2022-09-26 20:00'],\n",
       " ['林園', '高雄市', 8, '2022-09-26 20:00'],\n",
       " ['大寮', '高雄市', 19, '2022-09-26 20:00'],\n",
       " ['鳳山', '高雄市', 14, '2022-09-26 20:00'],\n",
       " ['仁武', '高雄市', 11, '2022-09-26 20:00'],\n",
       " ['橋頭', '高雄市', 15, '2022-09-26 20:00'],\n",
       " ['美濃', '高雄市', 15, '2022-09-26 20:00'],\n",
       " ['臺南', '臺南市', 14, '2022-09-26 20:00'],\n",
       " ['安南', '臺南市', 16, '2022-09-26 20:00'],\n",
       " ['善化', '臺南市', 11, '2022-09-26 20:00'],\n",
       " ['新營', '臺南市', 12, '2022-09-26 20:00'],\n",
       " ['嘉義', '嘉義市', 12, '2022-09-26 20:00'],\n",
       " ['臺西', '雲林縣', 7, '2022-09-26 20:00'],\n",
       " ['朴子', '嘉義縣', 12, '2022-09-26 20:00'],\n",
       " ['新港', '嘉義縣', 14, '2022-09-26 20:00'],\n",
       " ['崙背', '雲林縣', 9, '2022-09-26 20:00'],\n",
       " ['斗六', '雲林縣', 21, '2022-09-26 20:00'],\n",
       " ['南投', '南投縣', 24, '2022-09-26 20:00'],\n",
       " ['二林', '彰化縣', 10, '2022-09-26 20:00'],\n",
       " ['線西', '彰化縣', 19, '2022-09-26 20:00'],\n",
       " ['彰化', '彰化縣', 21, '2022-09-26 20:00'],\n",
       " ['西屯', '臺中市', 20, '2022-09-26 20:00'],\n",
       " ['忠明', '臺中市', 17, '2022-09-26 20:00'],\n",
       " ['大里', '臺中市', 23, '2022-09-26 20:00'],\n",
       " ['沙鹿', '臺中市', 12, '2022-09-26 20:00'],\n",
       " ['豐原', '臺中市', 19, '2022-09-26 20:00'],\n",
       " ['三義', '苗栗縣', 18, '2022-09-26 20:00'],\n",
       " ['苗栗', '苗栗縣', 10, '2022-09-26 20:00'],\n",
       " ['頭份', '苗栗縣', 18, '2022-09-26 20:00'],\n",
       " ['新竹', '新竹市', 4, '2022-09-26 20:00'],\n",
       " ['竹東', '新竹縣', 6, '2022-09-26 20:00'],\n",
       " ['湖口', '新竹縣', 6, '2022-09-26 20:00'],\n",
       " ['龍潭', '桃園市', 1, '2022-09-26 20:00'],\n",
       " ['平鎮', '桃園市', 5, '2022-09-26 20:00'],\n",
       " ['觀音', '桃園市', 9, '2022-09-26 20:00'],\n",
       " ['大園', '桃園市', 6, '2022-09-26 20:00'],\n",
       " ['桃園', '桃園市', 7, '2022-09-26 20:00'],\n",
       " ['大同', '臺北市', 11, '2022-09-26 20:00'],\n",
       " ['松山', '臺北市', 4, '2022-09-26 20:00'],\n",
       " ['古亭', '臺北市', 9, '2022-09-26 20:00'],\n",
       " ['萬華', '臺北市', 7, '2022-09-26 20:00'],\n",
       " ['中山', '臺北市', 5, '2022-09-26 20:00'],\n",
       " ['士林', '臺北市', 6, '2022-09-26 20:00'],\n",
       " ['淡水', '新北市', 9, '2022-09-26 20:00'],\n",
       " ['林口', '新北市', 9, '2022-09-26 20:00'],\n",
       " ['菜寮', '新北市', 6, '2022-09-26 20:00'],\n",
       " ['新莊', '新北市', 9, '2022-09-26 20:00'],\n",
       " ['板橋', '新北市', 5, '2022-09-26 20:00'],\n",
       " ['土城', '新北市', 1, '2022-09-26 20:00'],\n",
       " ['新店', '新北市', 2, '2022-09-26 20:00'],\n",
       " ['萬里', '新北市', 4, '2022-09-26 20:00'],\n",
       " ['汐止', '新北市', 4, '2022-09-26 20:00'],\n",
       " ['基隆', '基隆市', 6, '2022-09-26 20:00']]"
      ]
     },
     "execution_count": 8,
     "metadata": {},
     "output_type": "execute_result"
    }
   ],
   "source": [
    "df1.values.tolist()"
   ]
  },
  {
   "cell_type": "code",
   "execution_count": 14,
   "metadata": {},
   "outputs": [
    {
     "data": {
      "text/plain": [
       "5.83"
      ]
     },
     "execution_count": 14,
     "metadata": {},
     "output_type": "execute_result"
    }
   ],
   "source": [
    "round(df.groupby('county').get_group('新北市')['pm25'].mean(),2)"
   ]
  },
  {
   "cell_type": "code",
   "execution_count": 15,
   "metadata": {},
   "outputs": [
    {
     "data": {
      "text/plain": [
       "{'南投縣',\n",
       " '嘉義市',\n",
       " '嘉義縣',\n",
       " '基隆市',\n",
       " '宜蘭縣',\n",
       " '屏東縣',\n",
       " '彰化縣',\n",
       " '新北市',\n",
       " '新竹市',\n",
       " '新竹縣',\n",
       " '桃園市',\n",
       " '澎湖縣',\n",
       " '臺中市',\n",
       " '臺北市',\n",
       " '臺南市',\n",
       " '臺東縣',\n",
       " '花蓮縣',\n",
       " '苗栗縣',\n",
       " '連江縣',\n",
       " '金門縣',\n",
       " '雲林縣',\n",
       " '高雄市'}"
      ]
     },
     "execution_count": 15,
     "metadata": {},
     "output_type": "execute_result"
    }
   ],
   "source": [
    "set(df['county'])"
   ]
  },
  {
   "cell_type": "code",
   "execution_count": 19,
   "metadata": {},
   "outputs": [
    {
     "data": {
      "text/plain": [
       "[['臺北市', 6.71],\n",
       " ['新北市', 5.83],\n",
       " ['桃園市', 5.67],\n",
       " ['臺中市', 18.2],\n",
       " ['臺南市', 13.25],\n",
       " ['高雄市', 12.92]]"
      ]
     },
     "execution_count": 19,
     "metadata": {},
     "output_type": "execute_result"
    }
   ],
   "source": [
    "six_countys=['臺北市','新北市','桃園市','臺中市','臺南市','高雄市']\n",
    "datas=[]\n",
    "for county in six_countys:\n",
    "    pm25=round(df.groupby('county').get_group(county)['pm25'].mean(),2)\n",
    "    datas.append([county,pm25])\n",
    "datas"
   ]
  },
  {
   "cell_type": "code",
   "execution_count": 22,
   "metadata": {},
   "outputs": [
    {
     "data": {
      "text/plain": [
       "['臺中市',\n",
       " '嘉義市',\n",
       " '臺南市',\n",
       " '嘉義縣',\n",
       " '新竹縣',\n",
       " '金門縣',\n",
       " '花蓮縣',\n",
       " '臺北市',\n",
       " '宜蘭縣',\n",
       " '澎湖縣',\n",
       " '新北市',\n",
       " '新竹市',\n",
       " '高雄市',\n",
       " '連江縣',\n",
       " '雲林縣',\n",
       " '南投縣',\n",
       " '彰化縣',\n",
       " '基隆市',\n",
       " '屏東縣',\n",
       " '桃園市',\n",
       " '苗栗縣',\n",
       " '臺東縣']"
      ]
     },
     "execution_count": 22,
     "metadata": {},
     "output_type": "execute_result"
    }
   ],
   "source": [
    "countys=list(set(df['county']))\n",
    "countrys"
   ]
  },
  {
   "cell_type": "code",
   "execution_count": 24,
   "metadata": {},
   "outputs": [
    {
     "ename": "AttributeError",
     "evalue": "'DataFrame' object has no attribute 'grouby'",
     "output_type": "error",
     "traceback": [
      "\u001b[1;31m---------------------------------------------------------------------------\u001b[0m",
      "\u001b[1;31mAttributeError\u001b[0m                            Traceback (most recent call last)",
      "\u001b[1;32m~\\AppData\\Local\\Temp/ipykernel_44520/3189311735.py\u001b[0m in \u001b[0;36m<module>\u001b[1;34m\u001b[0m\n\u001b[1;32m----> 1\u001b[1;33m \u001b[0mdf\u001b[0m\u001b[1;33m.\u001b[0m\u001b[0mgrouby\u001b[0m\u001b[1;33m(\u001b[0m\u001b[1;34m'county'\u001b[0m\u001b[1;33m)\u001b[0m\u001b[1;33m.\u001b[0m\u001b[0mget_group\u001b[0m\u001b[1;33m(\u001b[0m\u001b[0mcountys\u001b[0m\u001b[1;33m[\u001b[0m\u001b[1;36m0\u001b[0m\u001b[1;33m]\u001b[0m\u001b[1;33m)\u001b[0m\u001b[1;33m\u001b[0m\u001b[1;33m\u001b[0m\u001b[0m\n\u001b[0m",
      "\u001b[1;32mc:\\ProgramData\\Anaconda3\\lib\\site-packages\\pandas\\core\\generic.py\u001b[0m in \u001b[0;36m__getattr__\u001b[1;34m(self, name)\u001b[0m\n\u001b[0;32m   5485\u001b[0m         ):\n\u001b[0;32m   5486\u001b[0m             \u001b[1;32mreturn\u001b[0m \u001b[0mself\u001b[0m\u001b[1;33m[\u001b[0m\u001b[0mname\u001b[0m\u001b[1;33m]\u001b[0m\u001b[1;33m\u001b[0m\u001b[1;33m\u001b[0m\u001b[0m\n\u001b[1;32m-> 5487\u001b[1;33m         \u001b[1;32mreturn\u001b[0m \u001b[0mobject\u001b[0m\u001b[1;33m.\u001b[0m\u001b[0m__getattribute__\u001b[0m\u001b[1;33m(\u001b[0m\u001b[0mself\u001b[0m\u001b[1;33m,\u001b[0m \u001b[0mname\u001b[0m\u001b[1;33m)\u001b[0m\u001b[1;33m\u001b[0m\u001b[1;33m\u001b[0m\u001b[0m\n\u001b[0m\u001b[0;32m   5488\u001b[0m \u001b[1;33m\u001b[0m\u001b[0m\n\u001b[0;32m   5489\u001b[0m     \u001b[1;32mdef\u001b[0m \u001b[0m__setattr__\u001b[0m\u001b[1;33m(\u001b[0m\u001b[0mself\u001b[0m\u001b[1;33m,\u001b[0m \u001b[0mname\u001b[0m\u001b[1;33m:\u001b[0m \u001b[0mstr\u001b[0m\u001b[1;33m,\u001b[0m \u001b[0mvalue\u001b[0m\u001b[1;33m)\u001b[0m \u001b[1;33m->\u001b[0m \u001b[1;32mNone\u001b[0m\u001b[1;33m:\u001b[0m\u001b[1;33m\u001b[0m\u001b[1;33m\u001b[0m\u001b[0m\n",
      "\u001b[1;31mAttributeError\u001b[0m: 'DataFrame' object has no attribute 'grouby'"
     ]
    }
   ],
   "source": [
    "df.grouby('county').get_group(countys[0])"
   ]
  },
  {
   "cell_type": "code",
   "execution_count": 25,
   "metadata": {},
   "outputs": [
    {
     "data": {
      "text/plain": [
       "[['復興', 11],\n",
       " ['小港', 13],\n",
       " ['前鎮', 11],\n",
       " ['前金', 15],\n",
       " ['左營', 9],\n",
       " ['楠梓', 14],\n",
       " ['林園', 8],\n",
       " ['大寮', 19],\n",
       " ['鳳山', 14],\n",
       " ['仁武', 11],\n",
       " ['橋頭', 15],\n",
       " ['美濃', 15]]"
      ]
     },
     "execution_count": 25,
     "metadata": {},
     "output_type": "execute_result"
    }
   ],
   "source": [
    "df.groupby('county').get_group(county)[ [\"site\", \"pm25\"]].values.tolist()"
   ]
  },
  {
   "cell_type": "code",
   "execution_count": null,
   "metadata": {},
   "outputs": [],
   "source": []
  }
 ],
 "metadata": {
  "kernelspec": {
   "display_name": "Python 3.9.7 ('base')",
   "language": "python",
   "name": "python3"
  },
  "language_info": {
   "codemirror_mode": {
    "name": "ipython",
    "version": 3
   },
   "file_extension": ".py",
   "mimetype": "text/x-python",
   "name": "python",
   "nbconvert_exporter": "python",
   "pygments_lexer": "ipython3",
   "version": "3.9.7"
  },
  "orig_nbformat": 4,
  "vscode": {
   "interpreter": {
    "hash": "ad2bdc8ecc057115af97d19610ffacc2b4e99fae6737bb82f5d7fb13d2f2c186"
   }
  }
 },
 "nbformat": 4,
 "nbformat_minor": 2
}
